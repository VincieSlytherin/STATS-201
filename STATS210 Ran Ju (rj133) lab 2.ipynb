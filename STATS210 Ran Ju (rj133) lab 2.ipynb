{
 "cells": [
  {
   "cell_type": "markdown",
   "metadata": {},
   "source": [
    "## STATS 210 Lab Assignment 2"
   ]
  },
  {
   "cell_type": "markdown",
   "metadata": {},
   "source": [
    "### Ran Ju rj133"
   ]
  },
  {
   "cell_type": "code",
   "execution_count": 2,
   "metadata": {},
   "outputs": [],
   "source": [
    "import math\n",
    "import numpy as np\n",
    "from numpy import random\n",
    "import matplotlib.pyplot as plt\n",
    "import matplotlib.lines as mlines\n",
    "from scipy import stats\n",
    "from collections import Counter"
   ]
  },
  {
   "cell_type": "markdown",
   "metadata": {},
   "source": [
    "#### Problem 1"
   ]
  },
  {
   "cell_type": "code",
   "execution_count": 16,
   "metadata": {},
   "outputs": [
    {
     "name": "stdout",
     "output_type": "stream",
     "text": [
      "p(i=0)=0.25\n",
      "p(i=1)=0.75\n",
      "p(j=0)=0.375\n",
      "p(j=1)=0.625\n",
      "p(i=0,j=0)=0.125\n",
      "p(i=0,j=1)=0.125\n",
      "p(i=1,j=0)=0.25\n",
      "p(i=1,j=1)=0.5\n"
     ]
    }
   ],
   "source": [
    "# mathematically calculation:\n",
    "joint={(0,0):1/8,(0,1):1/8,(1,0):1/4,(1,1):1/2}\n",
    "pi0=0\n",
    "pi1=0\n",
    "pj0=0\n",
    "pj1=0\n",
    "for i in joint:\n",
    "    if i[0]==0:\n",
    "        pi0+=joint[i]\n",
    "    if i[0]==1:\n",
    "        pi1+=joint[i]\n",
    "    if i[1]==0:\n",
    "        pj0+=joint[i]\n",
    "    if i[1]==1:\n",
    "        pj1+=joint[i]\n",
    "miux=pi0*0+pi1*1\n",
    "miuy=pj0*0+pj1*1\n",
    "varx=(miux-0)**2*pi0+(miux-1)**2*pi1\n",
    "vary=(miuy-0)**2*pj0+(miuy-1)**2*pj1\n",
    "miuxy=joint[(1,1)]*1*1\n",
    "print(\"p(i=0)=\"+str(pi0))\n",
    "print(\"p(i=1)=\"+str(pi1))\n",
    "print(\"p(j=0)=\"+str(pj0))\n",
    "print(\"p(j=1)=\"+str(pj1))\n",
    "print(\"p(i=0,j=0)=\"+str(joint[(0,0)]))\n",
    "print(\"p(i=0,j=1)=\"+str(joint[(0,1)]))\n",
    "print(\"p(i=1,j=0)=\"+str(joint[(1,0)]))\n",
    "print(\"p(i=1,j=1)=\"+str(joint[(1,1)]))"
   ]
  },
  {
   "cell_type": "code",
   "execution_count": 17,
   "metadata": {},
   "outputs": [
    {
     "name": "stdout",
     "output_type": "stream",
     "text": [
      "joint pmf:  {(1, 0): 0.2509, (1, 1): 0.494, (0, 0): 0.1291, (0, 1): 0.126}\n",
      "P(x):  {1: 0.7449, 0: 0.2551}\n",
      "P(Y):  {0: 0.38, 1: 0.62}\n"
     ]
    }
   ],
   "source": [
    "#computer simulation\n",
    "def deter():\n",
    "    r=random.random()\n",
    "    if r < 0.125:\n",
    "        return (0,0)\n",
    "    elif 0.125<=r<0.25:\n",
    "        return (0,1)\n",
    "    elif 0.25<=r< 0.5:\n",
    "        return (1,0)\n",
    "    else:\n",
    "        return (1,1)\n",
    "vector=[]\n",
    "joint={}\n",
    "mx={}\n",
    "my={}\n",
    "n=10000\n",
    "for i in range(n):\n",
    "    v=deter()\n",
    "    joint[v]=joint.get(v,0)+1\n",
    "    mx[v[0]]=mx.get(v[0],0)+1\n",
    "    my[v[1]]=my.get(v[1],0)+1\n",
    "    vector.append(v)    \n",
    "for j in [joint,mx,my]:\n",
    "    for i in j.keys():\n",
    "        j[i] = j[i]/n\n",
    "\n",
    "print('joint pmf: ',joint)\n",
    "print('P(x): ',mx)\n",
    "print('P(Y): ',my)"
   ]
  },
  {
   "cell_type": "markdown",
   "metadata": {},
   "source": [
    "#### Problem 2"
   ]
  },
  {
   "cell_type": "code",
   "execution_count": 18,
   "metadata": {},
   "outputs": [
    {
     "name": "stdout",
     "output_type": "stream",
     "text": [
      "corelation coefficient is 0.14907119849998599\n"
     ]
    }
   ],
   "source": [
    "# mathematically calculation:\n",
    "cov=miuxy-miux*miuy\n",
    "coe=cov/((varx*vary)**0.5)\n",
    "print(\"corelation coefficient is \"+str(coe))"
   ]
  },
  {
   "cell_type": "code",
   "execution_count": 19,
   "metadata": {},
   "outputs": [
    {
     "name": "stdout",
     "output_type": "stream",
     "text": [
      "corelation coefficient is 0.1520026600240423\n",
      "error: 0.019664841723645216\n"
     ]
    }
   ],
   "source": [
    "xsum,ysum,xysum,x2sum,y2sum = 0,0,0,0,0\n",
    "for v in vector:\n",
    "    xsum+=v[0]\n",
    "    ysum+=v[1]\n",
    "    xysum+=v[0]*v[1]\n",
    "    x2sum+=v[0]*v[0]\n",
    "    y2sum+=v[1]*v[1]\n",
    "miux=xsum/n\n",
    "miuy=ysum/n\n",
    "vx=x2sum/n-miux**2\n",
    "vy=y2sum/n-miuy**2\n",
    "coe1=(xysum/n-miux*miuy)/math.sqrt(vx*vy)\n",
    "print(\"corelation coefficient is \"+str(coe1))\n",
    "print(\"error: \"+str(abs((coe-coe1)/coe)))"
   ]
  },
  {
   "cell_type": "markdown",
   "metadata": {},
   "source": [
    "#### Problem 3"
   ]
  },
  {
   "cell_type": "code",
   "execution_count": 48,
   "metadata": {},
   "outputs": [
    {
     "data": {
      "text/plain": [
       "<matplotlib.legend.Legend at 0x1a1a409ed0>"
      ]
     },
     "execution_count": 48,
     "metadata": {},
     "output_type": "execute_result"
    },
    {
     "data": {
      "image/png": "[encoded data removed]",
      "text/plain": [
       "<Figure size 432x288 with 1 Axes>"
      ]
     },
     "metadata": {
      "needs_background": "light"
     },
     "output_type": "display_data"
    }
   ],
   "source": [
    "p=0.5\n",
    "size=100\n",
    "x=np.random.geometric(p, size)\n",
    "y=np.random.geometric(p, size)\n",
    "z=[]\n",
    "kn=[]\n",
    "num=[]\n",
    "ptrue=[]\n",
    "for i in range(size):\n",
    "    for j in range(size):\n",
    "        a=x[i]+y[j]\n",
    "        z.append(a)\n",
    "b=Counter(z)\n",
    "k=sorted(b.keys())\n",
    "for i in k:\n",
    "    kn.append(i)\n",
    "    num.append(b[i]/size**2)\n",
    "    jp=0.5**2*(i-1)*(1-p)**(i-2)\n",
    "    ptrue.append(jp)\n",
    "plt.bar(k,ptrue,width=0.8,alpha=0.6,color='b',label='True PMF')\n",
    "plt.bar(k,num,width=0.8,alpha=0.6,color='g',label='Generated PMF')\n",
    "plt.legend(loc='upper right')"
   ]
  },
  {
   "cell_type": "code",
   "execution_count": 49,
   "metadata": {},
   "outputs": [
    {
     "data": {
      "text/plain": [
       "Text(0.5, 1.0, 'Generated PMF')"
      ]
     },
     "execution_count": 49,
     "metadata": {},
     "output_type": "execute_result"
    },
    {
     "data": {
      "image/png": "[encoded data removed]",
      "text/plain": [
       "<Figure size 432x288 with 1 Axes>"
      ]
     },
     "metadata": {
      "needs_background": "light"
     },
     "output_type": "display_data"
    }
   ],
   "source": [
    "plt.bar(k,num,width=0.8,alpha=0.6,color='b')\n",
    "plt.title(\"Generated PMF\")"
   ]
  },
  {
   "cell_type": "code",
   "execution_count": 50,
   "metadata": {},
   "outputs": [
    {
     "data": {
      "text/plain": [
       "Text(0.5, 1.0, 'True PMF')"
      ]
     },
     "execution_count": 50,
     "metadata": {},
     "output_type": "execute_result"
    },
    {
     "data": {
      "image/png": "[encoded data removed]",
      "text/plain": [
       "<Figure size 432x288 with 1 Axes>"
      ]
     },
     "metadata": {
      "needs_background": "light"
     },
     "output_type": "display_data"
    }
   ],
   "source": [
    "plt.bar(k,ptrue,width=0.8,alpha=0.6,color='g')\n",
    "\n",
    "plt.title(\"True PMF\")"
   ]
  },
  {
   "cell_type": "markdown",
   "metadata": {},
   "source": [
    "#### Problem 4"
   ]
  },
  {
   "cell_type": "code",
   "execution_count": 55,
   "metadata": {},
   "outputs": [
    {
     "data": {
      "text/plain": [
       "Text(0.5, 1.0, 'The original')"
      ]
     },
     "execution_count": 55,
     "metadata": {},
     "output_type": "execute_result"
    },
    {
     "data": {
      "image/png": "[encoded data removed]",
      "text/plain": [
       "<Figure size 432x288 with 1 Axes>"
      ]
     },
     "metadata": {
      "needs_background": "light"
     },
     "output_type": "display_data"
    }
   ],
   "source": [
    "x=[]\n",
    "y=[]\n",
    "wx=[]\n",
    "wy=[]\n",
    "for i in range(1,12):\n",
    "    for j in range(1,12):\n",
    "        x1=0.95+(i-1)/100\n",
    "        y1=1.95+(j-1)/100\n",
    "        x2=x1**2+5*(y1**2)\n",
    "        y2=(-5)*(x1**2)+y1**2\n",
    "        x.append(x1)\n",
    "        y.append(y1)\n",
    "        wx.append(x2)\n",
    "        wy.append(y2)\n",
    "ax=plt.subplot()\n",
    "ax.scatter(x,y)\n",
    "ax.set_ylabel('Y')\n",
    "ax.set_xlabel('X')\n",
    "plt.title(\"The original\")\n",
    "\n"
   ]
  },
  {
   "cell_type": "code",
   "execution_count": 56,
   "metadata": {},
   "outputs": [
    {
     "data": {
      "text/plain": [
       "0.009999999999999995"
      ]
     },
     "execution_count": 56,
     "metadata": {},
     "output_type": "execute_result"
    }
   ],
   "source": [
    "xo=max(x)-min(x)\n",
    "yo=max(y)-min(y)\n",
    "so=xo*yo\n",
    "so"
   ]
  },
  {
   "cell_type": "code",
   "execution_count": 57,
   "metadata": {},
   "outputs": [
    {
     "data": {
      "image/png": "[encoded data removed]",
      "text/plain": [
       "<Figure size 432x288 with 1 Axes>"
      ]
     },
     "metadata": {
      "needs_background": "light"
     },
     "output_type": "display_data"
    },
    {
     "data": {
      "text/plain": [
       "<Figure size 7.2e+06x7.2e+06 with 0 Axes>"
      ]
     },
     "metadata": {},
     "output_type": "display_data"
    }
   ],
   "source": [
    "ax1=plt.subplot()\n",
    "ax1.scatter(wx,wy)\n",
    "ax1.set_ylabel('Y')\n",
    "ax1.set_xlabel('X')\n",
    "plt.title(\"After transformation\")\n",
    "for a, b in zip(wx[110:111], wy[110:111]):  \n",
    "    plt.text(a, b, (a,b),ha='center', va='bottom', fontsize=10)\n",
    "for a, b in zip(wx[0:1], wy[0:1]):  \n",
    "    plt.text(a, b, (a,b),ha='center', va='bottom', fontsize=10)\n",
    "for a, b in zip(wx[10:11], wy[10:11]):  \n",
    "    plt.text(a, b, (a,b),ha='center', va='bottom', fontsize=10)\n",
    "plt.figure(figsize=(100000,100000))\n",
    "plt.show()\n"
   ]
  },
  {
   "cell_type": "code",
   "execution_count": 58,
   "metadata": {},
   "outputs": [
    {
     "data": {
      "text/plain": [
       "2.0799999999999996"
      ]
     },
     "execution_count": 58,
     "metadata": {},
     "output_type": "execute_result"
    }
   ],
   "source": [
    "x1,y1=21.915,-0.3100000000000005\n",
    "x2,y2=19.915,-0.7100000000000004\n",
    "x3,y3=20.115,-1.7100000000000004\n",
    "xl=((x2-x1)**2+(y2-y1)**2)**0.5\n",
    "yl=((x2-x3)**2+(y2-y3)**2)**0.5\n",
    "s=xl*yl\n",
    "s\n"
   ]
  },
  {
   "cell_type": "code",
   "execution_count": 60,
   "metadata": {},
   "outputs": [
    {
     "data": {
      "text/plain": [
       "208.00000000000006"
      ]
     },
     "execution_count": 60,
     "metadata": {},
     "output_type": "execute_result"
    }
   ],
   "source": [
    "result=s/so\n",
    "result"
   ]
  },
  {
   "cell_type": "code",
   "execution_count": 61,
   "metadata": {},
   "outputs": [
    {
     "name": "stdout",
     "output_type": "stream",
     "text": [
      "error: 2.7328566760003855e-16\n"
     ]
    }
   ],
   "source": [
    "print(\"error: \"+str(abs(result-208)/208))"
   ]
  },
  {
   "cell_type": "markdown",
   "metadata": {},
   "source": [
    "#### Problem 5"
   ]
  },
  {
   "cell_type": "code",
   "execution_count": 65,
   "metadata": {},
   "outputs": [
    {
     "data": {
      "text/plain": [
       "<matplotlib.legend.Legend at 0x1a1ad60910>"
      ]
     },
     "execution_count": 65,
     "metadata": {},
     "output_type": "execute_result"
    },
    {
     "data": {
      "image/png": "[encoded data removed]",
      "text/plain": [
       "<Figure size 432x288 with 1 Axes>"
      ]
     },
     "metadata": {
      "needs_background": "light"
     },
     "output_type": "display_data"
    }
   ],
   "source": [
    "mu, sigma = 1, 1 # mean and standard deviation\n",
    "x=[]\n",
    "meanlist=[]\n",
    "li=[]\n",
    "for n in range(1,1000):\n",
    "    s=np.random.normal(mu, sigma, n)\n",
    "    mean=sum(s)/n\n",
    "    x.append(n)\n",
    "    meanlist.append(mean)\n",
    "    li.append(1)\n",
    "plt.plot(x,meanlist,label='simulation')\n",
    "plt.plot(x,li,label='convergent value')\n",
    "plt.legend(loc='upper right')"
   ]
  },
  {
   "cell_type": "markdown",
   "metadata": {},
   "source": [
    "#### Problem 6"
   ]
  },
  {
   "cell_type": "code",
   "execution_count": 66,
   "metadata": {},
   "outputs": [
    {
     "data": {
      "text/plain": [
       "Text(0.5, 1.0, 'Uniform distribution')"
      ]
     },
     "execution_count": 66,
     "metadata": {},
     "output_type": "execute_result"
    },
    {
     "data": {
      "image/png": "[encoded data removed]",
      "text/plain": [
       "<Figure size 432x288 with 1 Axes>"
      ]
     },
     "metadata": {
      "needs_background": "light"
     },
     "output_type": "display_data"
    }
   ],
   "source": [
    "x1=[]\n",
    "meanlist1=[]\n",
    "for n in range(1,1000):\n",
    "    s=np.random.uniform(0, 2, n)\n",
    "    mean=sum(s)/n\n",
    "    x1.append(n)\n",
    "    meanlist1.append(mean)\n",
    "plt.plot(x1,meanlist1)\n",
    "plt.title('Uniform distribution')"
   ]
  },
  {
   "cell_type": "code",
   "execution_count": 67,
   "metadata": {},
   "outputs": [
    {
     "data": {
      "text/plain": [
       "Text(0.5, 1.0, 'Normalm distribution')"
      ]
     },
     "execution_count": 67,
     "metadata": {},
     "output_type": "execute_result"
    },
    {
     "data": {
      "image/png": "[encoded data removed]",
      "text/plain": [
       "<Figure size 432x288 with 1 Axes>"
      ]
     },
     "metadata": {
      "needs_background": "light"
     },
     "output_type": "display_data"
    }
   ],
   "source": [
    "mu,sigma=1,4 # mean and standard deviation\n",
    "x2=[]\n",
    "meanlist2=[]\n",
    "for n in range(1,1000):\n",
    "    s=np.random.normal(mu, sigma, n)\n",
    "    mean=sum(s)/n\n",
    "    x2.append(n)\n",
    "    meanlist2.append(mean)\n",
    "plt.plot(x2,meanlist2)\n",
    "plt.title('Normalm distribution')"
   ]
  },
  {
   "cell_type": "code",
   "execution_count": 68,
   "metadata": {},
   "outputs": [
    {
     "data": {
      "text/plain": [
       "<matplotlib.legend.Legend at 0x1a1b0a19d0>"
      ]
     },
     "execution_count": 68,
     "metadata": {},
     "output_type": "execute_result"
    },
    {
     "data": {
      "image/png": "[encoded data removed]",
      "text/plain": [
       "<Figure size 432x288 with 1 Axes>"
      ]
     },
     "metadata": {
      "needs_background": "light"
     },
     "output_type": "display_data"
    }
   ],
   "source": [
    "ax = plt.axes()\n",
    "ax.plot(x1,meanlist1,label='uniform',alpha=0.5)\n",
    "ax.plot(x2,meanlist2,label='normal',alpha=0.5)\n",
    "plt.legend(loc='upper right')"
   ]
  },
  {
   "cell_type": "code",
   "execution_count": null,
   "metadata": {},
   "outputs": [],
   "source": []
  }
 ],
 "metadata": {
  "kernelspec": {
   "display_name": "Python 3",
   "language": "python",
   "name": "python3"
  },
  "language_info": {
   "codemirror_mode": {
    "name": "ipython",
    "version": 3
   },
   "file_extension": ".py",
   "mimetype": "text/x-python",
   "name": "python",
   "nbconvert_exporter": "python",
   "pygments_lexer": "ipython3",
   "version": "3.7.4"
  }
 },
 "nbformat": 4,
 "nbformat_minor": 2
}
